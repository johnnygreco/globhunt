{
 "cells": [
  {
   "cell_type": "code",
   "execution_count": null,
   "metadata": {},
   "outputs": [],
   "source": [
    "%config InlineBackend.figure_format = 'retina'\n",
    "import os\n",
    "import numpy as np\n",
    "import matplotlib.pyplot as plt\n",
    "import globhunt as gh\n",
    "plt.style.use('jpg.mplstyle')"
   ]
  },
  {
   "cell_type": "markdown",
   "metadata": {},
   "source": [
    "# `MultiBandImage`\n",
    "- Images are stored as `MultiBandImage` (`mbi`) objects\n",
    "- You can generate `MultiBandImage` objects two ways"
   ]
  },
  {
   "cell_type": "markdown",
   "metadata": {},
   "source": [
    "# Making `MultiBandImage` objects\n",
    "\n",
    "### 1) `HSCButler`\n",
    "- The `butler` fetches images and psfs from the HSC server. You need a username and password. "
   ]
  },
  {
   "cell_type": "code",
   "execution_count": null,
   "metadata": {},
   "outputs": [],
   "source": [
    "butler = gh.HSCButler('grecoj')"
   ]
  },
  {
   "cell_type": "code",
   "execution_count": null,
   "metadata": {},
   "outputs": [],
   "source": [
    "%%time\n",
    "\n",
    "# this is a helper function to get parameters for \n",
    "# galaxies in the HSC LSB galaxy sample\n",
    "params = gh.get_hsc_lsbg_params(490) \n",
    "\n",
    "# here's how you fetch a cutout\n",
    "width = 60 # arcsec\n",
    "mbi = butler.fetch_cutout(params.ra, params.dec, width)"
   ]
  },
  {
   "cell_type": "markdown",
   "metadata": {},
   "source": [
    "---\n",
    "Using the `butler` is great because you can grab data from any position within the HSC footprint. \n",
    "\n",
    "But the downside is that it can be quite slow, depending on your internet speed. \n",
    "\n",
    "### 2) Storing the data locally and reading into a `file_dict`"
   ]
  },
  {
   "cell_type": "code",
   "execution_count": null,
   "metadata": {},
   "outputs": [],
   "source": [
    "# If you make your own file dictionary, you can use this method\n",
    "gh.MultiBandImage.from_file_dict?"
   ]
  },
  {
   "cell_type": "code",
   "execution_count": null,
   "metadata": {},
   "outputs": [],
   "source": [
    "# If you follow a particular directory structure, you can use \n",
    "# this helper functions \n",
    "file_dict = gh.make_file_dict(490, 'griz', '/Users/jgreco/Desktop/globhunt-data/')\n",
    "file_dict"
   ]
  },
  {
   "cell_type": "code",
   "execution_count": null,
   "metadata": {},
   "outputs": [],
   "source": [
    "mbi = gh.MultiBandImage.from_file_dict(file_dict)"
   ]
  },
  {
   "cell_type": "code",
   "execution_count": null,
   "metadata": {},
   "outputs": [],
   "source": []
  },
  {
   "cell_type": "code",
   "execution_count": null,
   "metadata": {},
   "outputs": [],
   "source": [
    "# There's a helper function to do this in one step\n",
    "mbi = gh.fetch_multiband_image(490, 'griz', '/Users/jgreco/Desktop/globhunt-data/', width=60)"
   ]
  },
  {
   "cell_type": "markdown",
   "metadata": {},
   "source": [
    "## `MultiBandImage` objects\n",
    "- have attributes for the object image, variance (var), psf, and HSC mask\n",
    "- you can see all the attributes and methods using tab complete"
   ]
  },
  {
   "cell_type": "code",
   "execution_count": null,
   "metadata": {},
   "outputs": [],
   "source": [
    "# the image attributes store the data for all the bands, which you can access as \n",
    "# attributes or dictionary keys\n",
    "\n",
    "# as attributes: mbi.image.i, image.var.i, image.psf.i, image.hsc_mask.i\n",
    "# as dictionary keys: mbi.image['i'], image.var['i'], image.psf['i'], image.hsc_mask['i']\n",
    "\n",
    "# there's a viz module for storing plotting functions.\n",
    "gh.show_image(mbi.image.i)\n",
    "gh.show_image(mbi.var.i)\n",
    "gh.show_image(mbi.hsc_mask.i);"
   ]
  },
  {
   "cell_type": "code",
   "execution_count": null,
   "metadata": {},
   "outputs": [],
   "source": [
    "# mbi objects have a method for making rgb images\n",
    "rgb = mbi.make_rgb(stretch=0.4)\n",
    "gh.show_image(rgb);"
   ]
  },
  {
   "cell_type": "markdown",
   "metadata": {},
   "source": [
    "# The `PSFPhotometry` pipeline\n",
    "The pipeline is initialized with:\n",
    "- the output directory for imfit, which is mostly temporary files\n",
    "- (optionally) the pipeline configuration "
   ]
  },
  {
   "cell_type": "code",
   "execution_count": null,
   "metadata": {},
   "outputs": [],
   "source": [
    "# you can pass the config as a dictionary or a yaml file\n",
    "pipe = gh.PSFPhotometry('/Users/jgreco/local-io/imfit-io/', '../configs/pipe-config.yml')"
   ]
  },
  {
   "cell_type": "code",
   "execution_count": null,
   "metadata": {},
   "outputs": [],
   "source": [
    "%%time\n",
    "# here's how you run the pipeline with the loaded configuration.\n",
    "# the second two parameters tell the pipeline to save residual images\n",
    "# from the psf photometry (save_residual_images) \n",
    "# and the imfit sersic fits (save_viz), which will save png images to the\n",
    "# directory you gave for imfit input/output\n",
    "cat = pipe.run_pipeline(mbi, save_residual_images=True, save_viz=True)"
   ]
  },
  {
   "cell_type": "code",
   "execution_count": null,
   "metadata": {},
   "outputs": [],
   "source": [
    "# the pipeline also has a make_rgb method. \n",
    "# you need to pass the type of image you want\n",
    "res_rgb = pipe.make_rgb('residual_image_forced', stretch=0.4)\n",
    "gh.show_image(res_rgb);"
   ]
  },
  {
   "cell_type": "markdown",
   "metadata": {},
   "source": [
    "# Saving Sersic models and `mbi` objects\n",
    "- This is very helpful when you are testing or measuring completeness and want to run the pipeline many times"
   ]
  },
  {
   "cell_type": "code",
   "execution_count": null,
   "metadata": {},
   "outputs": [],
   "source": [
    "# the sersic model is saved in binary in .npy format\n",
    "sersic_model_fn = '/Users/jgreco/Desktop/dev-gh/G490-sersic-model.npy'\n",
    "pipe.sersic_fitter.save_model(sersic_model_fn)"
   ]
  },
  {
   "cell_type": "code",
   "execution_count": null,
   "metadata": {},
   "outputs": [],
   "source": [
    "# then you just need to pass the file name to the run_pipeline method\n",
    "# notice it skips the imfit step\n",
    "cat = pipe.run_pipeline(mbi, sersic_model=sersic_model_fn)"
   ]
  },
  {
   "cell_type": "code",
   "execution_count": null,
   "metadata": {},
   "outputs": [],
   "source": [
    "# you can save mbi objects as pickle files\n",
    "# this is useful if you want fast access to files \n",
    "# you downloaded files using the hsc butler\n",
    "mbi_pkl = '/Users/jgreco/Desktop/dev-gh/G90-mbi.pkl'\n",
    "mbi.to_pickle(mbi_pkl)"
   ]
  },
  {
   "cell_type": "code",
   "execution_count": null,
   "metadata": {},
   "outputs": [],
   "source": [
    "# to read in a saved mbi object, use the from_pickle method\n",
    "mbi = gh.MultiBandImage.from_pickle(mbi_pkl)"
   ]
  },
  {
   "cell_type": "markdown",
   "metadata": {},
   "source": [
    "# The `synths` module"
   ]
  },
  {
   "cell_type": "code",
   "execution_count": null,
   "metadata": {},
   "outputs": [],
   "source": [
    "# inject synthetic point sources into images using th inject function\n",
    "synth_catalog, mbi_synths = gh.synths.inject(mbi, mag_range=[23, 28], nstars=300, edge_buffer=10)"
   ]
  },
  {
   "cell_type": "code",
   "execution_count": null,
   "metadata": {},
   "outputs": [],
   "source": [
    "gh.show_image(mbi_synths.make_rgb(stretch=0.4));"
   ]
  },
  {
   "cell_type": "code",
   "execution_count": null,
   "metadata": {},
   "outputs": [],
   "source": [
    "# treat the image with mock stars the same \n",
    "cat = pipe.run_pipeline(mbi_synths, sersic_model=sersic_model_fn, save_residual_images=True)"
   ]
  },
  {
   "cell_type": "code",
   "execution_count": null,
   "metadata": {},
   "outputs": [],
   "source": [
    "res_rgb = pipe.make_rgb('residual_image_forced', stretch=0.4)\n",
    "gh.show_image(res_rgb);"
   ]
  },
  {
   "cell_type": "code",
   "execution_count": null,
   "metadata": {},
   "outputs": [],
   "source": [
    "# the synth module has a helper function to find the sources you recovered\n",
    "injected, recovered = gh.synths.recovery(cat, synth_catalog)"
   ]
  },
  {
   "cell_type": "markdown",
   "metadata": {},
   "source": [
    "# Completeness\n",
    "- There are a couple functions for plotting the artificial star test results"
   ]
  },
  {
   "cell_type": "code",
   "execution_count": null,
   "metadata": {},
   "outputs": [],
   "source": [
    "gh.plot_completeness(synth_catalog, injected, 'i', xlim=[22.5, 28]);"
   ]
  },
  {
   "cell_type": "code",
   "execution_count": null,
   "metadata": {},
   "outputs": [],
   "source": [
    "gh.plot_measurement_offset(injected, recovered, 'i', xlim=[23, 28]);"
   ]
  },
  {
   "cell_type": "code",
   "execution_count": null,
   "metadata": {},
   "outputs": [],
   "source": []
  }
 ],
 "metadata": {
  "kernelspec": {
   "display_name": "Python 3",
   "language": "python",
   "name": "python3"
  },
  "language_info": {
   "codemirror_mode": {
    "name": "ipython",
    "version": 3
   },
   "file_extension": ".py",
   "mimetype": "text/x-python",
   "name": "python",
   "nbconvert_exporter": "python",
   "pygments_lexer": "ipython3",
   "version": "3.6.9"
  }
 },
 "nbformat": 4,
 "nbformat_minor": 4
}
